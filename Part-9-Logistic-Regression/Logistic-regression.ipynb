{
 "cells": [
  {
   "cell_type": "markdown",
   "metadata": {},
   "source": [
    "# Part 8 Solving binary classifications using Logistic Regression"
   ]
  },
  {
   "cell_type": "markdown",
   "metadata": {},
   "source": [
    "So far in the [series](https://www.javahabit.com/2019/03/02/decision-tree-using-python/) we have learnt about forms on regression models. Each of those model was used to solve a target variable that was linear number. \n",
    "\n",
    "Now we enter a territory where target variables might not be that straight forward. The target variables would be in the form binary, category etc. Basically anything other than a number. Ex - Cat vs Dog, Yes or No, Reg, Green or Blue. \n",
    "\n",
    "This form of machine learning is called Classification. One of the first algorithm in this series is called __Logistic Regression__"
   ]
  },
  {
   "cell_type": "markdown",
   "metadata": {},
   "source": [
    "__Goal__ : We are provided a set of data that contains, _Gender_, _Age_, _Salary_ & _Purchased_. The goal is to predict whether the a person will make a purchase given the parameters - Age and Salary."
   ]
  },
  {
   "cell_type": "markdown",
   "metadata": {},
   "source": [
    "### Data Exploration"
   ]
  },
  {
   "cell_type": "code",
   "execution_count": 357,
   "metadata": {},
   "outputs": [],
   "source": [
    "import numpy as np\n",
    "import pandas as pd\n",
    "import matplotlib.pyplot as plt"
   ]
  },
  {
   "cell_type": "code",
   "execution_count": 358,
   "metadata": {},
   "outputs": [],
   "source": [
    "#Load the file\n",
    "dataset = pd.read_csv(\"Social_Network_Ads.csv\")"
   ]
  },
  {
   "cell_type": "code",
   "execution_count": 359,
   "metadata": {},
   "outputs": [
    {
     "data": {
      "text/html": [
       "<div>\n",
       "<style scoped>\n",
       "    .dataframe tbody tr th:only-of-type {\n",
       "        vertical-align: middle;\n",
       "    }\n",
       "\n",
       "    .dataframe tbody tr th {\n",
       "        vertical-align: top;\n",
       "    }\n",
       "\n",
       "    .dataframe thead th {\n",
       "        text-align: right;\n",
       "    }\n",
       "</style>\n",
       "<table border=\"1\" class=\"dataframe\">\n",
       "  <thead>\n",
       "    <tr style=\"text-align: right;\">\n",
       "      <th></th>\n",
       "      <th>User ID</th>\n",
       "      <th>Gender</th>\n",
       "      <th>Age</th>\n",
       "      <th>EstimatedSalary</th>\n",
       "      <th>Purchased</th>\n",
       "    </tr>\n",
       "  </thead>\n",
       "  <tbody>\n",
       "    <tr>\n",
       "      <th>0</th>\n",
       "      <td>15624510</td>\n",
       "      <td>Male</td>\n",
       "      <td>19</td>\n",
       "      <td>19000</td>\n",
       "      <td>0</td>\n",
       "    </tr>\n",
       "    <tr>\n",
       "      <th>1</th>\n",
       "      <td>15810944</td>\n",
       "      <td>Male</td>\n",
       "      <td>35</td>\n",
       "      <td>20000</td>\n",
       "      <td>0</td>\n",
       "    </tr>\n",
       "    <tr>\n",
       "      <th>2</th>\n",
       "      <td>15668575</td>\n",
       "      <td>Female</td>\n",
       "      <td>26</td>\n",
       "      <td>43000</td>\n",
       "      <td>0</td>\n",
       "    </tr>\n",
       "    <tr>\n",
       "      <th>3</th>\n",
       "      <td>15603246</td>\n",
       "      <td>Female</td>\n",
       "      <td>27</td>\n",
       "      <td>57000</td>\n",
       "      <td>0</td>\n",
       "    </tr>\n",
       "    <tr>\n",
       "      <th>4</th>\n",
       "      <td>15804002</td>\n",
       "      <td>Male</td>\n",
       "      <td>19</td>\n",
       "      <td>76000</td>\n",
       "      <td>0</td>\n",
       "    </tr>\n",
       "  </tbody>\n",
       "</table>\n",
       "</div>"
      ],
      "text/plain": [
       "    User ID  Gender  Age  EstimatedSalary  Purchased\n",
       "0  15624510    Male   19            19000          0\n",
       "1  15810944    Male   35            20000          0\n",
       "2  15668575  Female   26            43000          0\n",
       "3  15603246  Female   27            57000          0\n",
       "4  15804002    Male   19            76000          0"
      ]
     },
     "execution_count": 359,
     "metadata": {},
     "output_type": "execute_result"
    }
   ],
   "source": [
    "#View the first 5 rows\n",
    "dataset.head()"
   ]
  },
  {
   "cell_type": "code",
   "execution_count": 360,
   "metadata": {},
   "outputs": [],
   "source": [
    "male= dataset[dataset['Gender']=='Male']['Gender'].size\n",
    "females = dataset[dataset['Gender']=='Female']['Gender'].size\n",
    "\n"
   ]
  },
  {
   "cell_type": "code",
   "execution_count": 361,
   "metadata": {},
   "outputs": [],
   "source": [
    "#Plot male vs female?\n",
    "gender = ['Male', 'Female']\n",
    "y_pos = np.arange(2)\n",
    "gender_count = [male, females]\n",
    "x_pos = [i for i, _ in enumerate(gender)] # 0,1\n"
   ]
  },
  {
   "cell_type": "code",
   "execution_count": 362,
   "metadata": {},
   "outputs": [
    {
     "data": {
      "image/png": "[encoded data removed]",
      "text/plain": [
       "<Figure size 432x288 with 1 Axes>"
      ]
     },
     "metadata": {
      "needs_background": "light"
     },
     "output_type": "display_data"
    }
   ],
   "source": [
    "\n",
    "plt.bar(x_pos, gender_count, color='green')\n",
    "plt.xlabel(\"Gender\")\n",
    "plt.ylabel(\"Count\")\n",
    "plt.title(\"Male Vs Female\")\n",
    "\n",
    "plt.xticks(x_pos, gender) ##==> ([0,1], [Male, Female])\n",
    "\n",
    "plt.show()"
   ]
  },
  {
   "cell_type": "code",
   "execution_count": 363,
   "metadata": {},
   "outputs": [],
   "source": [
    "#How many Men vs Female bought/Not Bought\n",
    "men_purchase = dataset[(dataset['Purchased']==1) & (dataset['Gender']=='Male')]['Gender'].size\n",
    "men_no_purchase = dataset[(dataset['Purchased']==0) & (dataset['Gender']=='Male')]['Gender'].size\n",
    "female_purchase = dataset[(dataset['Purchased']==1) & (dataset['Gender']=='Female')]['Gender'].size\n",
    "female_no_purchase = dataset[(dataset['Purchased']==0) & (dataset['Gender']=='Female')]['Gender'].size"
   ]
  },
  {
   "cell_type": "code",
   "execution_count": 364,
   "metadata": {},
   "outputs": [
    {
     "data": {
      "image/png": "[encoded data removed]",
      "text/plain": [
       "<Figure size 432x288 with 1 Axes>"
      ]
     },
     "metadata": {
      "needs_background": "light"
     },
     "output_type": "display_data"
    }
   ],
   "source": [
    "x_label=['Yes', 'No']\n",
    "x_pos = np.arange(len(x_label))\n",
    "width = 0.35\n",
    "people_purchase = [men_purchase, men_no_purchase]\n",
    "people_no_purchase=[female_purchase,female_no_purchase]\n",
    "#All people\n",
    "fig, ax = plt.subplots()\n",
    "rects1 = ax.bar(x_pos - width/2, people_purchase, width, label='Men')\n",
    "rects2 = ax.bar(x_pos + width/2, people_no_purchase, width, label='Women')\n",
    "\n",
    "ax.set_ylabel('Count')\n",
    "ax.set_title('Men and Women vs Purchase')\n",
    "ax.set_xticks(x_pos)\n",
    "ax.set_xticklabels(x_label)\n",
    "ax.legend()\n",
    "\n",
    "def autolabel(rects):\n",
    "    \"\"\"Attach a text label above each bar in *rects*, displaying its height.\"\"\"\n",
    "    for rect in rects:\n",
    "        height = rect.get_height()\n",
    "        ax.annotate('{}'.format(height),\n",
    "                    xy=(rect.get_x() + rect.get_width() / 2, height),\n",
    "                    xytext=(0, 3),  # 3 points vertical offset\n",
    "                    textcoords=\"offset points\",\n",
    "                    ha='center', va='bottom')\n",
    "\n",
    "autolabel(rects1)\n",
    "autolabel(rects2)\n",
    "\n",
    "fig.tight_layout()\n",
    "\n",
    "plt.show()\n"
   ]
  },
  {
   "cell_type": "code",
   "execution_count": 365,
   "metadata": {},
   "outputs": [
    {
     "data": {
      "image/png": "[encoded data removed]",
      "text/plain": [
       "<Figure size 432x288 with 2 Axes>"
      ]
     },
     "metadata": {
      "needs_background": "light"
     },
     "output_type": "display_data"
    }
   ],
   "source": [
    "# What age range purchases more\n",
    "men_purchased=dataset[(dataset['Purchased']==1)& (dataset['Gender']=='Male') ]['Age']\n",
    "female_purchased=dataset[(dataset['Purchased']==1)& (dataset['Gender']=='Female') ]['Age']\n",
    "\n",
    "n_bins = 6\n",
    "\n",
    "fig, axs = plt.subplots(2,1, sharey=True)\n",
    "\n",
    "# We can set the number of bins with the `bins` kwarg\n",
    "#plt.title('Men Vs women Salary Range Purchase')\n",
    "axs[0].hist(men_purchased, bins=n_bins,orientation ='vertical',cumulative=True )\n",
    "axs[0].set_ylabel('Men Purchases')\n",
    "\n",
    "\n",
    "axs[1].hist(female_purchased, bins=n_bins,orientation ='vertical',cumulative=True)\n",
    "axs[1].set_ylabel('Female Purchases')\n",
    "axs[1].set_xlabel('Age Range')\n",
    "#fig.tight_layout()\n",
    "plt.show()"
   ]
  },
  {
   "cell_type": "markdown",
   "metadata": {},
   "source": [
    "For people who bought, it appears that Men and women shopping habit are quite different. For both men and women, they make purchases gradually until age __40__. After age __40__, both men and women tend to purchase more. After age __50__, men purchase habit drop but women continue the trend."
   ]
  },
  {
   "cell_type": "code",
   "execution_count": 366,
   "metadata": {},
   "outputs": [
    {
     "data": {
      "image/png": "[encoded data removed]",
      "text/plain": [
       "<Figure size 432x288 with 2 Axes>"
      ]
     },
     "metadata": {
      "needs_background": "light"
     },
     "output_type": "display_data"
    }
   ],
   "source": [
    "# What salary range purchases more\n",
    "men_purchased=dataset[(dataset['Purchased']==1)& (dataset['Gender']=='Male') ]['EstimatedSalary']\n",
    "female_purchased=dataset[(dataset['Purchased']==1)& (dataset['Gender']=='Female') ]['EstimatedSalary']\n",
    "\n",
    "n_bins = 12\n",
    "\n",
    "fig, axs = plt.subplots(2,1, sharey=True)\n",
    "\n",
    "# We can set the number of bins with the `bins` kwarg\n",
    "#plt.title('Men Vs women Salary Range Purchase')\n",
    "axs[0].hist(men_purchased, bins=n_bins,orientation ='vertical' )\n",
    "axs[0].set_ylabel('Men Purchases')\n",
    "\n",
    "\n",
    "axs[1].hist(female_purchased, bins=n_bins,orientation ='vertical')\n",
    "axs[1].set_ylabel('Female Purchases')\n",
    "axs[1].set_xlabel('Salary Range')\n",
    "#fig.tight_layout()\n",
    "plt.show()"
   ]
  },
  {
   "cell_type": "markdown",
   "metadata": {},
   "source": [
    "Salary Range purchases are more interesting. Men and women purchases keep dropping from __19000 - 50000__. Women purchases continue to increase from __75000__ and upwards. Men purchases remain pretty stale beyond __70000__ and upwards."
   ]
  },
  {
   "cell_type": "markdown",
   "metadata": {},
   "source": [
    "## Set up Training and Test Data"
   ]
  },
  {
   "cell_type": "code",
   "execution_count": 423,
   "metadata": {},
   "outputs": [
    {
     "data": {
      "text/plain": [
       "array([['Male', 35, 20000],\n",
       "       ['Female', 26, 43000],\n",
       "       ['Female', 27, 57000],\n",
       "       ['Male', 19, 76000]], dtype=object)"
      ]
     },
     "execution_count": 423,
     "metadata": {},
     "output_type": "execute_result"
    }
   ],
   "source": [
    "# Set up training and test data\n",
    "x=dataset.iloc[:,1:4].values\n",
    "y=dataset.iloc[:,4:5].values\n",
    "x[1:5]"
   ]
  },
  {
   "cell_type": "markdown",
   "metadata": {},
   "source": [
    "The dataset has a categorical field sex = {Male, Female}. Before we proceed to train the model, let's encode the dataset."
   ]
  },
  {
   "cell_type": "code",
   "execution_count": 424,
   "metadata": {},
   "outputs": [
    {
     "data": {
      "text/plain": [
       "array([[0.0, 1.0, 19, 19000],\n",
       "       [0.0, 1.0, 35, 20000],\n",
       "       [1.0, 0.0, 26, 43000],\n",
       "       ...,\n",
       "       [1.0, 0.0, 50, 20000],\n",
       "       [0.0, 1.0, 36, 33000],\n",
       "       [1.0, 0.0, 49, 36000]], dtype=object)"
      ]
     },
     "execution_count": 424,
     "metadata": {},
     "output_type": "execute_result"
    }
   ],
   "source": [
    "#Adding the logistic regression\n",
    "from sklearn.preprocessing import OneHotEncoder, LabelEncoder\n",
    "\n",
    "from sklearn.compose import ColumnTransformer \n",
    "\n",
    "transformer = ColumnTransformer(\n",
    "    transformers=[\n",
    "        (\"Gender\",        # Just a name\n",
    "         OneHotEncoder(categories='auto'), # The transformer class\n",
    "         [0]            # The column(s) to be applied on.\n",
    "         )\n",
    "    ], remainder='passthrough'\n",
    ")\n",
    "    \n",
    "x= transformer.fit_transform(x)\n",
    "x"
   ]
  },
  {
   "cell_type": "markdown",
   "metadata": {},
   "source": [
    "Now you can see that __Male__ has been set to 0,1 and __Female__ as 1,0.\n",
    "\n",
    "Next we split the data in tp train and test data. Here we are splitting into 75:25 ratio. The __random_state__ is set to 10, which means that every 10th row will be set to train and test."
   ]
  },
  {
   "cell_type": "code",
   "execution_count": 399,
   "metadata": {},
   "outputs": [],
   "source": [
    "#Split into training and test data\n",
    "from sklearn.model_selection import train_test_split\n",
    "X_train, X_test, y_train, y_test = train_test_split(x, y, test_size=0.25, random_state=10)\n",
    "\n"
   ]
  },
  {
   "cell_type": "markdown",
   "metadata": {},
   "source": [
    "Next we will standardize the value across the dataset. Standardized scaling is an important step here because as you will see age range is beweent  1-100, while salary is in 1000's and sex is either 0 or 1. "
   ]
  },
  {
   "cell_type": "code",
   "execution_count": 425,
   "metadata": {},
   "outputs": [],
   "source": [
    "from sklearn.linear_model import LogisticRegression\n",
    "from sklearn.preprocessing import StandardScaler"
   ]
  },
  {
   "cell_type": "code",
   "execution_count": 426,
   "metadata": {},
   "outputs": [],
   "source": [
    "sc = StandardScaler()\n",
    "X_train = sc.fit_transform(X_train)\n",
    "X_test = sc.transform(X_test)\n"
   ]
  },
  {
   "cell_type": "code",
   "execution_count": 427,
   "metadata": {},
   "outputs": [
    {
     "data": {
      "text/plain": [
       "array([[-1.06191317,  1.06191317, -0.93894518,  0.26049952],\n",
       "       [ 0.94169658, -0.94169658, -0.93894518,  0.43327002],\n",
       "       [ 0.94169658, -0.94169658,  0.3177076 ,  0.05893394],\n",
       "       ...,\n",
       "       [-1.06191317,  1.06191317, -0.84227958,  0.2892946 ],\n",
       "       [ 0.94169658, -0.94169658,  0.1243764 , -0.25781198],\n",
       "       [ 0.94169658, -0.94169658,  0.4143732 ,  1.09555693]])"
      ]
     },
     "execution_count": 427,
     "metadata": {},
     "output_type": "execute_result"
    }
   ],
   "source": [
    "X_train"
   ]
  },
  {
   "cell_type": "markdown",
   "metadata": {},
   "source": [
    "Now you can see that the each column has been standardized and scaled. Next we need to define our regression class."
   ]
  },
  {
   "cell_type": "code",
   "execution_count": 428,
   "metadata": {},
   "outputs": [],
   "source": [
    "lr = LogisticRegression(random_state=3, solver = 'lbfgs',\\\n",
    "                        multi_class='auto').fit(X_train, y_train.ravel())\n"
   ]
  },
  {
   "cell_type": "code",
   "execution_count": 431,
   "metadata": {},
   "outputs": [],
   "source": [
    "y_pred = lr.predict(X_test)\n"
   ]
  },
  {
   "cell_type": "markdown",
   "metadata": {},
   "source": [
    "After training our Logistics Regression, we tested it against the test data to see what are values predicted for untrained data from test. \n",
    "Next we need to see our accuracy and look at Confusion matrix"
   ]
  },
  {
   "cell_type": "code",
   "execution_count": 430,
   "metadata": {},
   "outputs": [
    {
     "name": "stdout",
     "output_type": "stream",
     "text": [
      "Accuracy: \n",
      " 0.9\n",
      "Confusion Matrix:\n",
      " [[64  5]\n",
      " [ 5 26]]\n"
     ]
    }
   ],
   "source": [
    "from sklearn.metrics import accuracy_score, confusion_matrix\n",
    "print('Accuracy: \\n' , accuracy_score(y_test,y_pred))\n",
    "print('Confusion Matrix:\\n' ,confusion_matrix(y_test,y_pred))"
   ]
  },
  {
   "cell_type": "markdown",
   "metadata": {},
   "source": [
    "![](cf-matrix.png)\n"
   ]
  },
  {
   "cell_type": "markdown",
   "metadata": {},
   "source": [
    "And with this we can see that our accuracy is 91% and 10 items (5 False Positive and 5 False Negative) were incorrect predictions"
   ]
  },
  {
   "cell_type": "code",
   "execution_count": null,
   "metadata": {},
   "outputs": [],
   "source": []
  }
 ],
 "metadata": {
  "kernelspec": {
   "display_name": "Python 3",
   "language": "python",
   "name": "python3"
  },
  "language_info": {
   "codemirror_mode": {
    "name": "ipython",
    "version": 3
   },
   "file_extension": ".py",
   "mimetype": "text/x-python",
   "name": "python",
   "nbconvert_exporter": "python",
   "pygments_lexer": "ipython3",
   "version": "3.7.2"
  },
  "varInspector": {
   "cols": {
    "lenName": 16,
    "lenType": 16,
    "lenVar": 40
   },
   "kernels_config": {
    "python": {
     "delete_cmd_postfix": "",
     "delete_cmd_prefix": "del ",
     "library": "var_list.py",
     "varRefreshCmd": "print(var_dic_list())"
    },
    "r": {
     "delete_cmd_postfix": ") ",
     "delete_cmd_prefix": "rm(",
     "library": "var_list.r",
     "varRefreshCmd": "cat(var_dic_list()) "
    }
   },
   "types_to_exclude": [
    "module",
    "function",
    "builtin_function_or_method",
    "instance",
    "_Feature"
   ],
   "window_display": false
  }
 },
 "nbformat": 4,
 "nbformat_minor": 2
}
